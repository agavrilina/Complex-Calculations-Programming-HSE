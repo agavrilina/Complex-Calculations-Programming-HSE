{
 "cells": [
  {
   "cell_type": "code",
   "execution_count": 1,
   "metadata": {},
   "outputs": [],
   "source": [
    "import numpy as np"
   ]
  },
  {
   "cell_type": "markdown",
   "metadata": {},
   "source": [
    "# I. Generate all lattice walks, 2D square lattice"
   ]
  },
  {
   "cell_type": "code",
   "execution_count": 2,
   "metadata": {},
   "outputs": [],
   "source": [
    "steps = [(1, 0), (-1, 0), (0, 1), (0, -1)]\n",
    "\n",
    "def generate_walks(path, L):\n",
    "    \"\"\"Generate all random walks on the 2D square lattice.\"\"\"\n",
    "    if L == 0:\n",
    "        print(path)\n",
    "    else:\n",
    "        for dx, dy in steps:\n",
    "            x, y = path[-1]\n",
    "            pp = path.copy()\n",
    "            pp.append((x + dx, y + dy))\n",
    "            generate_walks(pp, L - 1)"
   ]
  },
  {
   "cell_type": "code",
   "execution_count": 3,
   "metadata": {},
   "outputs": [
    {
     "name": "stdout",
     "output_type": "stream",
     "text": [
      "[(0, 0), (1, 0), (2, 0)]\n",
      "[(0, 0), (1, 0), (0, 0)]\n",
      "[(0, 0), (1, 0), (1, 1)]\n",
      "[(0, 0), (1, 0), (1, -1)]\n",
      "[(0, 0), (-1, 0), (0, 0)]\n",
      "[(0, 0), (-1, 0), (-2, 0)]\n",
      "[(0, 0), (-1, 0), (-1, 1)]\n",
      "[(0, 0), (-1, 0), (-1, -1)]\n",
      "[(0, 0), (0, 1), (1, 1)]\n",
      "[(0, 0), (0, 1), (-1, 1)]\n",
      "[(0, 0), (0, 1), (0, 2)]\n",
      "[(0, 0), (0, 1), (0, 0)]\n",
      "[(0, 0), (0, -1), (1, -1)]\n",
      "[(0, 0), (0, -1), (-1, -1)]\n",
      "[(0, 0), (0, -1), (0, 0)]\n",
      "[(0, 0), (0, -1), (0, -2)]\n"
     ]
    }
   ],
   "source": [
    "generate_walks([(0, 0)], 2)"
   ]
  },
  {
   "cell_type": "markdown",
   "metadata": {},
   "source": [
    "## Store the walks\n",
    "\n",
    "Printing walks is nice, but not very useful. Better construct a list of all walks, for postprocessing. To this end, add a `cache` parameter, which stores all generated walks."
   ]
  },
  {
   "cell_type": "code",
   "execution_count": 4,
   "metadata": {},
   "outputs": [],
   "source": [
    "steps = [(1, 0), (-1, 0), (0, 1), (0, -1)]\n",
    "\n",
    "def generate_walks_stored(path, L, cache):\n",
    "    if L == 0:\n",
    "        cache.append(path)\n",
    "    else:\n",
    "        for dx, dy in steps:\n",
    "            x, y = path[-1]\n",
    "            xy_new = (x + dx, y + dy)\n",
    "            pp = path.copy()\n",
    "            pp.append(xy_new)\n",
    "            generate_walks_stored(pp, L - 1, cache)"
   ]
  },
  {
   "cell_type": "code",
   "execution_count": 5,
   "metadata": {},
   "outputs": [
    {
     "data": {
      "text/plain": [
       "16"
      ]
     },
     "execution_count": 5,
     "metadata": {},
     "output_type": "execute_result"
    }
   ],
   "source": [
    "cache = []\n",
    "generate_walks_stored([(0, 0)], 2, cache)\n",
    "len(cache)"
   ]
  },
  {
   "cell_type": "code",
   "execution_count": 6,
   "metadata": {},
   "outputs": [
    {
     "data": {
      "text/plain": [
       "[[(0, 0), (1, 0), (2, 0)],\n",
       " [(0, 0), (1, 0), (0, 0)],\n",
       " [(0, 0), (1, 0), (1, 1)],\n",
       " [(0, 0), (1, 0), (1, -1)],\n",
       " [(0, 0), (-1, 0), (0, 0)],\n",
       " [(0, 0), (-1, 0), (-2, 0)],\n",
       " [(0, 0), (-1, 0), (-1, 1)],\n",
       " [(0, 0), (-1, 0), (-1, -1)],\n",
       " [(0, 0), (0, 1), (1, 1)],\n",
       " [(0, 0), (0, 1), (-1, 1)],\n",
       " [(0, 0), (0, 1), (0, 2)],\n",
       " [(0, 0), (0, 1), (0, 0)],\n",
       " [(0, 0), (0, -1), (1, -1)],\n",
       " [(0, 0), (0, -1), (-1, -1)],\n",
       " [(0, 0), (0, -1), (0, 0)],\n",
       " [(0, 0), (0, -1), (0, -2)]]"
      ]
     },
     "execution_count": 6,
     "metadata": {},
     "output_type": "execute_result"
    }
   ],
   "source": [
    "cache"
   ]
  },
  {
   "cell_type": "markdown",
   "metadata": {},
   "source": [
    "## Task 0\n",
    "\n",
    "Compute the average end-to-end distance of random walks of a given length. What is the scaling of the end-to-end distance with the length of the walk? What is the scaling of the mean *square* end-to-end distance with the length?"
   ]
  },
  {
   "cell_type": "markdown",
   "metadata": {},
   "source": [
    "<font color='red'> (See in the papers, prove) </font>"
   ]
  },
  {
   "cell_type": "code",
   "execution_count": 7,
   "metadata": {},
   "outputs": [
    {
     "name": "stdout",
     "output_type": "stream",
     "text": [
      "Список расстояний: \n",
      " [2.         0.         1.41421356 1.41421356 0.         2.\n",
      " 1.41421356 1.41421356 1.41421356 1.41421356 2.         0.\n",
      " 1.41421356 1.41421356 0.         2.        ]\n",
      "\n",
      "Среднее расстояние:  1.2071067811865475\n",
      "Среднеквадратичная дистанция:  2.0\n"
     ]
    }
   ],
   "source": [
    "def walks(cache):\n",
    "    len_ = []\n",
    "    for i in cache:\n",
    "        len_.append(((i[-1][0] - i [0][0])**2 + (i[-1][1] - i [0][1])**2)**0.5)\n",
    "    return np.array(len_)\n",
    "\n",
    "len_ = walks(cache)\n",
    "\n",
    "print('Список расстояний: \\n', len_)\n",
    "\n",
    "print('\\nСреднее расстояние: ', np.mean(len_))\n",
    "\n",
    "print('Среднеквадратичная дистанция: ', np.sum(len_**2)/len_.shape[0])"
   ]
  },
  {
   "cell_type": "markdown",
   "metadata": {},
   "source": [
    "# I. Generate all SAWs on a 2D square lattice\n",
    "\n",
    "A self-avoiding walk is a random walk where a lattice site can only be visited once."
   ]
  },
  {
   "cell_type": "code",
   "execution_count": 8,
   "metadata": {},
   "outputs": [],
   "source": [
    "steps = [(1, 0), (-1, 0), (0, 1), (0, -1)]\n",
    "\n",
    "def generate_SAWs(path, L, cache):\n",
    "    if L == 0:\n",
    "        cache.append(path)\n",
    "    else:\n",
    "        for dx, dy in steps:\n",
    "            x, y = path[-1]\n",
    "            xy_new = (x + dx, y + dy)\n",
    "            if xy_new in path:\n",
    "                continue\n",
    "            pp = path.copy()\n",
    "            pp.append(xy_new)\n",
    "            generate_SAWs(pp, L - 1, cache)"
   ]
  },
  {
   "cell_type": "code",
   "execution_count": 9,
   "metadata": {},
   "outputs": [
    {
     "data": {
      "text/plain": [
       "12"
      ]
     },
     "execution_count": 9,
     "metadata": {},
     "output_type": "execute_result"
    }
   ],
   "source": [
    "cache = []\n",
    "generate_SAWs([(0, 0)], 2, cache)\n",
    "len(cache)"
   ]
  },
  {
   "cell_type": "code",
   "execution_count": 10,
   "metadata": {},
   "outputs": [
    {
     "data": {
      "text/plain": [
       "[[(0, 0), (1, 0), (2, 0)],\n",
       " [(0, 0), (1, 0), (1, 1)],\n",
       " [(0, 0), (1, 0), (1, -1)],\n",
       " [(0, 0), (-1, 0), (-2, 0)],\n",
       " [(0, 0), (-1, 0), (-1, 1)],\n",
       " [(0, 0), (-1, 0), (-1, -1)],\n",
       " [(0, 0), (0, 1), (1, 1)],\n",
       " [(0, 0), (0, 1), (-1, 1)],\n",
       " [(0, 0), (0, 1), (0, 2)],\n",
       " [(0, 0), (0, -1), (1, -1)],\n",
       " [(0, 0), (0, -1), (-1, -1)],\n",
       " [(0, 0), (0, -1), (0, -2)]]"
      ]
     },
     "execution_count": 10,
     "metadata": {},
     "output_type": "execute_result"
    }
   ],
   "source": [
    "cache"
   ]
  },
  {
   "cell_type": "markdown",
   "metadata": {},
   "source": [
    "## Task 1\n",
    "\n",
    "How many walks of a given length are there? What is the mean end-to-end distance of walks of a given length? What is mean *square* of the end-to-end distance?"
   ]
  },
  {
   "cell_type": "markdown",
   "metadata": {},
   "source": [
    "<font color='red'> (See in the papers, prove) </font>"
   ]
  },
  {
   "cell_type": "code",
   "execution_count": 11,
   "metadata": {},
   "outputs": [
    {
     "name": "stdout",
     "output_type": "stream",
     "text": [
      "Количество путей:  12\n",
      "Пути:  [2.         1.41421356 1.41421356 2.         1.41421356 1.41421356\n",
      " 1.41421356 1.41421356 2.         1.41421356 1.41421356 2.        ]\n",
      "\n",
      "Средняя дистанция:  1.6094757082487303\n",
      "Среднеквадратичная дистанция:  2.6666666666666665\n"
     ]
    }
   ],
   "source": [
    "print('Количество путей: ', len(cache))\n",
    "\n",
    "len_ = walks(cache)\n",
    "\n",
    "print('Пути: ', len_)\n",
    "print('\\nСредняя дистанция: ', np.mean(len_))\n",
    "print('Среднеквадратичная дистанция: ', np.sum(len_**2)/len_.shape[0])"
   ]
  },
  {
   "cell_type": "markdown",
   "metadata": {},
   "source": [
    "## Extra tasks (for fun, no credit, a possible basis of a course project)\n",
    "\n",
    "1. Generate a self-avoiding walk on triangular lattice.\n",
    "2. Rewrite the recursive algorithm to use a queue."
   ]
  },
  {
   "cell_type": "code",
   "execution_count": 12,
   "metadata": {},
   "outputs": [],
   "source": [
    "step = 1.\n",
    "x = np.sqrt(0.25)\n",
    "y = np.sqrt(0.75)\n",
    "\n",
    "steps = [(1, 0), (x, y), (-x, y), (-1, 0), (-x, -y), (x, -y)]\n",
    "\n",
    "def generate_walks_stored_triang(path, L, cache):\n",
    "    if L == 0:\n",
    "        cache.append(path)\n",
    "    else:\n",
    "        for dx, dy in steps:\n",
    "            x, y = path[-1]\n",
    "            xy_new = (x + dx, y + dy)\n",
    "            if xy_new in path:\n",
    "                continue\n",
    "            pp = path.copy()\n",
    "            pp.append(xy_new)\n",
    "            generate_walks_stored_triang(pp, L - 1, cache)"
   ]
  },
  {
   "cell_type": "code",
   "execution_count": 13,
   "metadata": {},
   "outputs": [
    {
     "data": {
      "text/plain": [
       "6"
      ]
     },
     "execution_count": 13,
     "metadata": {},
     "output_type": "execute_result"
    }
   ],
   "source": [
    "cache = []\n",
    "generate_walks_stored_triang([(0, 0)], 1, cache)\n",
    "len(cache)"
   ]
  },
  {
   "cell_type": "code",
   "execution_count": null,
   "metadata": {},
   "outputs": [],
   "source": []
  }
 ],
 "metadata": {
  "kernelspec": {
   "display_name": "Python 3",
   "language": "python",
   "name": "python3"
  },
  "language_info": {
   "codemirror_mode": {
    "name": "ipython",
    "version": 3
   },
   "file_extension": ".py",
   "mimetype": "text/x-python",
   "name": "python",
   "nbconvert_exporter": "python",
   "pygments_lexer": "ipython3",
   "version": "3.7.1"
  }
 },
 "nbformat": 4,
 "nbformat_minor": 2
}
