{
 "cells": [
  {
   "cell_type": "code",
   "execution_count": 1,
   "metadata": {},
   "outputs": [],
   "source": [
    "import numpy as np"
   ]
  },
  {
   "cell_type": "code",
   "execution_count": 2,
   "metadata": {},
   "outputs": [],
   "source": [
    "def th_V(b, c, root_1, root_2):\n",
    "    return np.allclose(root_1+root_2, b) and np.allclose(root_1*root_2, c)\n",
    "\n",
    "def solve_quad(b, c):\n",
    "    \"\"\"Solve a quadratic equation, x**2 + bx + c = 0.\n",
    "    \n",
    "    Parameters\n",
    "    ----------\n",
    "    b, c : float\n",
    "       Coefficients\n",
    "       \n",
    "    Returns\n",
    "    -------\n",
    "    x1, x2 : float or complex\n",
    "       Roots.\n",
    "    \"\"\"\n",
    "    dec = b**2 - 4*c \n",
    "\n",
    "    if dec >= 0: \n",
    "        x1 = (-b - np.sqrt(dec))/2\n",
    "        x2 = (-b + np.sqrt(dec))/2\n",
    "        \n",
    "        if th_V(b, c, x1, x2):\n",
    "            return x1, x2\n",
    "        \n",
    "        else:\n",
    "            if b > 0:\n",
    "                x1 = 2*c/(-b - np.sqrt(dec))\n",
    "                x2 = (- b -  np.sqrt(dec))/2\n",
    "            \n",
    "            else:\n",
    "                x1 = 2*c/(-b + np.sqrt(dec))\n",
    "                x2 = (- b + np.sqrt(dec))/2\n",
    "            \n",
    "            return x1, x2\n",
    "        \n",
    "    elif dec < 0:\n",
    "        x1 = (-b - np.sqrt(-dec)*1j)/2\n",
    "        x2 = (-b + np.sqrt(-dec)*1j)/2\n",
    "        \n",
    "        return x1, x2"
   ]
  },
  {
   "cell_type": "code",
   "execution_count": 3,
   "metadata": {},
   "outputs": [
    {
     "data": {
      "text/plain": [
       "(-0.0, -2.0)"
      ]
     },
     "execution_count": 3,
     "metadata": {},
     "output_type": "execute_result"
    }
   ],
   "source": [
    "solve_quad(2,0)"
   ]
  },
  {
   "cell_type": "markdown",
   "metadata": {},
   "source": [
    "Test the function"
   ]
  },
  {
   "cell_type": "code",
   "execution_count": 9,
   "metadata": {},
   "outputs": [],
   "source": [
    "variants = [{'b': 4.0, 'c': 3.0},\n",
    "            {'b': 1e10, 'c': 3.0},\n",
    "            {'b': -1e10, 'c': 4.0},]"
   ]
  },
  {
   "cell_type": "code",
   "execution_count": 10,
   "metadata": {},
   "outputs": [
    {
     "name": "stdout",
     "output_type": "stream",
     "text": [
      "True\n",
      "True\n",
      "True\n"
     ]
    }
   ],
   "source": [
    "for var in variants:\n",
    "    x1, x2 = solve_quad(**var)\n",
    "    print(np.allclose(x1*x2, var['c']))"
   ]
  },
  {
   "cell_type": "markdown",
   "metadata": {},
   "source": [
    "You will need to list solutions for last test's parameters (`{'b': -1e10, 'c': 4.0}`) in order to put them in respective field in Google Form for this lesson."
   ]
  },
  {
   "cell_type": "code",
   "execution_count": 11,
   "metadata": {},
   "outputs": [
    {
     "name": "stdout",
     "output_type": "stream",
     "text": [
      "Точность корней:  True\n",
      "Корни квадратного уравнения:  -1.0 -3.0\n",
      "Точность корней:  True\n",
      "Корни квадратного уравнения:  -3e-10 -10000000000.0\n",
      "Точность корней:  True\n",
      "Корни квадратного уравнения:  4e-10 10000000000.0\n"
     ]
    }
   ],
   "source": [
    "for var in variants:\n",
    "    #test = [{'b': -1e10, 'c': 4.0}]\n",
    "    x1, x2 = solve_quad(**var)\n",
    "    print('Точность корней: ', np.allclose(x1*x2, var['c']))\n",
    "    print('Корни квадратного уравнения: ', x1, x2)"
   ]
  },
  {
   "cell_type": "code",
   "execution_count": null,
   "metadata": {},
   "outputs": [],
   "source": []
  }
 ],
 "metadata": {
  "kernelspec": {
   "display_name": "Python 3",
   "language": "python",
   "name": "python3"
  },
  "language_info": {
   "codemirror_mode": {
    "name": "ipython",
    "version": 3
   },
   "file_extension": ".py",
   "mimetype": "text/x-python",
   "name": "python",
   "nbconvert_exporter": "python",
   "pygments_lexer": "ipython3",
   "version": "3.7.1"
  }
 },
 "nbformat": 4,
 "nbformat_minor": 2
}
