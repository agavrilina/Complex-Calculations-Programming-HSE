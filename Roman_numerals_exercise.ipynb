{
 "cells": [
  {
   "cell_type": "code",
   "execution_count": 1,
   "metadata": {},
   "outputs": [],
   "source": [
    "import numpy as np"
   ]
  },
  {
   "cell_type": "markdown",
   "metadata": {},
   "source": [
    "# Roman numerals"
   ]
  },
  {
   "cell_type": "markdown",
   "metadata": {},
   "source": [
    "## I. Roman numerals to decimals\n",
    "\n",
    "Write a function which receives a Roman numeral written out as a string, and returns an integer representing the decimal form of the input number. "
   ]
  },
  {
   "cell_type": "code",
   "execution_count": 2,
   "metadata": {},
   "outputs": [],
   "source": [
    "mapping = {\"I\" : 1, \n",
    "           \"V\" : 5,\n",
    "           \"X\" : 10,\n",
    "           \"L\" : 50,\n",
    "           \"C\" : 100,\n",
    "           \"D\" : 500,\n",
    "           \"M\" : 1000}"
   ]
  },
  {
   "cell_type": "code",
   "execution_count": 3,
   "metadata": {},
   "outputs": [],
   "source": [
    "def roman_to_decimal(rom):\n",
    "    \"\"\"Convert a Roman numeral to decimal.\n",
    "    \n",
    "    Parameters\n",
    "    ----------\n",
    "    rom : str\n",
    "        A Roman numeral representing a positive integer.\n",
    "        \n",
    "    Returns\n",
    "    -------\n",
    "    dec : int\n",
    "        The result of conversion of `rom` into a decimal system.\n",
    "    \"\"\"\n",
    "    # ...\n",
    "    # enter your code here\n",
    "    # ...\n",
    "    return dec"
   ]
  },
  {
   "cell_type": "markdown",
   "metadata": {},
   "source": [
    "Here are some tests for you to test your code. Your code must pass all of them. You also need to come up with several more tests (your choice)."
   ]
  },
  {
   "cell_type": "code",
   "execution_count": 4,
   "metadata": {},
   "outputs": [
    {
     "name": "stdout",
     "output_type": "stream",
     "text": [
      "True\n",
      "True\n",
      "True\n",
      "True\n",
      "True\n"
     ]
    }
   ],
   "source": [
    "test_pairs = [(\"IX\", 9), (\"XI\", 11), (\"MCCII\", 1202), (\"MMXVIII\", 2018), (\"XLIX\", 49)]\n",
    "\n",
    "for rom, dec in test_pairs:\n",
    "    converted = roman_to_decimal(rom)\n",
    "    print(converted == dec)"
   ]
  },
  {
   "cell_type": "markdown",
   "metadata": {},
   "source": [
    "Now you can run tests in file `tests_roman_to_decimal.txt`. You need to insert a number of false results and listed false results in respective fields in Google Form for this lesson."
   ]
  },
  {
   "cell_type": "code",
   "execution_count": 5,
   "metadata": {},
   "outputs": [],
   "source": [
    "p_roman = \"tests_Roman_numerals.txt\"\n",
    "with open(p_roman, \"rb\") as fp_roman:\n",
    "    lines_roman=fp_roman.readlines()\n",
    "\n",
    "test_data_roman = [line.strip().decode(\"ascii\").split(',') for line in lines_roman]\n",
    "test_data_roman = [(line[0], int(line[1])) for line in test_data_roman]\n",
    "\n",
    "def roman_to_dec(roman_num):\n",
    "    dec_number = []\n",
    "    number = []\n",
    "    \n",
    "    roman_number = list(roman_num)\n",
    "    for item in roman_number:\n",
    "        dec_number.append(mapping[item])\n",
    "    dec_number.append(0)\n",
    "\n",
    "    i = 1\n",
    "    while i != len(dec_number):\n",
    "        if dec_number[i-1] < dec_number[i]:\n",
    "            number.append(dec_number[i] - dec_number[i-1])\n",
    "            i += 2\n",
    "\n",
    "        else:\n",
    "            number.append(dec_number[i-1])\n",
    "            i += 1\n",
    "    \n",
    "    return sum(number)"
   ]
  },
  {
   "cell_type": "code",
   "execution_count": 6,
   "metadata": {},
   "outputs": [
    {
     "name": "stdout",
     "output_type": "stream",
     "text": [
      "False:  \n",
      "Test:  1246 \n",
      "Roman number:  MCCXLVIII \n",
      "Answer:  1248\n",
      "\n",
      "False:  \n",
      "Test:  1273 \n",
      "Roman number:  MCCLXX \n",
      "Answer:  1270\n",
      "\n",
      "False:  \n",
      "Test:  1708 \n",
      "Roman number:  MDCCX \n",
      "Answer:  1710\n",
      "\n",
      "False:  \n",
      "Test:  81 \n",
      "Roman number:  LXXXIV \n",
      "Answer:  84\n",
      "\n",
      "False:  \n",
      "Test:  799 \n",
      "Roman number:  DCCXCVII \n",
      "Answer:  797\n",
      "\n",
      "False:  \n",
      "Test:  430 \n",
      "Roman number:  CDXXIX \n",
      "Answer:  429\n",
      "\n",
      "False:  \n",
      "Test:  1790 \n",
      "Roman number:  MDCCXCI \n",
      "Answer:  1791\n",
      "\n",
      "Количство верных ответов:  293\n",
      "Количество ошибок в тестах:  7\n"
     ]
    }
   ],
   "source": [
    "count_true = 0\n",
    "count_false = 0\n",
    "\n",
    "for rom_num, test in test_data_roman:\n",
    "    ans = roman_to_dec(rom_num)\n",
    "    if ans != int(test):\n",
    "        print('False: ','\\nTest: ', test,'\\nRoman number: ', rom_num, '\\nAnswer: ', ans)\n",
    "        print()\n",
    "        \n",
    "        count_false += 1\n",
    "    else:\n",
    "        count_true += 1\n",
    "        \n",
    "print('Количство верных ответов: ', count_true)\n",
    "print('Количество ошибок в тестах: ', count_false)"
   ]
  }
 ],
 "metadata": {
  "kernelspec": {
   "display_name": "Python 3",
   "language": "python",
   "name": "python3"
  },
  "language_info": {
   "codemirror_mode": {
    "name": "ipython",
    "version": 3
   },
   "file_extension": ".py",
   "mimetype": "text/x-python",
   "name": "python",
   "nbconvert_exporter": "python",
   "pygments_lexer": "ipython3",
   "version": "3.7.1"
  }
 },
 "nbformat": 4,
 "nbformat_minor": 2
}
